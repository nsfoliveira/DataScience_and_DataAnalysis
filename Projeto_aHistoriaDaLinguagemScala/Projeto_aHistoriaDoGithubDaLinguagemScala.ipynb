{
 "cells": [
  {
   "cell_type": "markdown",
   "id": "0e54d402-cfb4-4bb6-9e1c-ae4a1e3415ce",
   "metadata": {},
   "source": [
    "Este Notebook é parte da <b>Data Scientist with Python Career Track</b> da plataforma DataCamp<br>\n",
    "Além das resoluções, este notebook pode conter outras análises e modificações realizadas por mim.<br>\n",
    "<hr/>"
   ]
  },
  {
   "cell_type": "markdown",
   "id": "5fa40632-8acc-46a6-836a-af1db84b8671",
   "metadata": {},
   "source": [
    "#  <font color='red'> A história do GitHub da linguagem Scala<hr>"
   ]
  },
  {
   "cell_type": "markdown",
   "id": "b4141d67-3f87-4393-9345-031b5636d7d4",
   "metadata": {},
   "source": [
    "# Análise Guiada "
   ]
  },
  {
   "cell_type": "markdown",
   "id": "b3108ef6-0127-4dcd-a78d-d08566a86683",
   "metadata": {},
   "source": [
    "## 1. Dados do repositório de projetos do mundo real do Scala<br>\n",
    "Com quase 30 mil commits e um histórico de mais de dez anos, Scala é uma linguagem de programação madura. É uma linguagem de programação de uso geral que recentemente se tornou outra linguagem proeminente para cientistas de dados.<br>\n",
    "\n",
    "Scala também é um projeto de código aberto. Projetos de código aberto têm a vantagem de que todo o histórico de desenvolvimento - quem fez as alterações, o que foi alterado, revisões de código, etc. - estão disponíveis publicamente.<br>\n",
    "\n",
    "Vamos ler, limpar e visualizar o repositório de projetos do mundo real do Scala que abrange dados de um sistema de controle de versão (Git) e de um site de hospedagem de projetos (GitHub). Descobriremos quem teve mais influência em seu desenvolvimento e quem são os especialistas.<b>\n",
    "\n",
    "O conjunto de dados que usaremos, previamente minerado e extraído do GitHub, é composto por três arquivos:\n",
    "\n",
    "* `pulls_2011-2013.csv` contém as informações básicas sobre as solicitações de pull e abrange desde o final de 2011 até (mas não incluindo) 2014.\n",
    "* `pulls_2014-2018.csv` contém informações idênticas e abrange de 2014 a 2018.\n",
    "* `pull_files.csv` contém os arquivos que foram modificados por cada pull request."
   ]
  },
  {
   "cell_type": "markdown",
   "id": "6caea719-3db8-4d29-ba68-c9f482b3c72e",
   "metadata": {},
   "source": [
    "### Dicionário de dados\n",
    "\n",
    "pid:\n",
    "user:\n",
    "date:\n",
    "file:"
   ]
  },
  {
   "cell_type": "markdown",
   "id": "711ec5f0-34e7-42fa-90f6-4bbfecb72b50",
   "metadata": {},
   "source": [
    "### Importando bibliotecas, carregando e visualizando os datasets"
   ]
  },
  {
   "cell_type": "code",
   "execution_count": 1,
   "id": "8aacaac2-9e26-4fb8-b705-0f8403e7d58e",
   "metadata": {},
   "outputs": [],
   "source": [
    "# Importando Biliotecas\n",
    "import pandas as pd\n",
    "import matplotlib.pyplot as plt"
   ]
  },
  {
   "cell_type": "code",
   "execution_count": 2,
   "id": "a0388296-7ad7-442d-a176-5a43ce64fe5f",
   "metadata": {},
   "outputs": [],
   "source": [
    "# Carregando os dados\n",
    "\n",
    "pulls_one = pd.read_csv('Datasets/pulls_2011-2013.csv', sep=',')\n",
    "pulls_two = pd.read_csv('Datasets/pulls_2014-2018.csv', sep=',')\n",
    "pulls = pd.read_csv('Datasets/pulls.csv', sep=',') \n",
    "pulls_files = pd.read_csv('Datasets/pull_files.csv', sep=',')"
   ]
  },
  {
   "cell_type": "code",
   "execution_count": 3,
   "id": "69ba7ddf-f26a-4913-a734-4be60791f757",
   "metadata": {},
   "outputs": [
    {
     "name": "stdout",
     "output_type": "stream",
     "text": [
      "          pid      user                  date\n",
      "1358  3781237   secwall  2013-01-22T14:51:48Z\n",
      "2659  1439228     lrytz  2012-05-28T11:48:00Z\n",
      "3183   708242     cvogt  2012-01-19T03:27:11Z\n",
      "3187   700953  dcsobral  2012-01-17T20:12:29Z\n",
      "3213   637271  jsuereth  2011-12-29T13:40:07Z\n",
      "           pid       user                  date\n",
      "2502  15707106   retronym  2014-05-09T15:36:36Z\n",
      "1600  40927113  SethTisue  2015-07-27T17:16:56Z\n",
      "1522  44828993    janekdb  2015-09-11T21:04:53Z\n",
      "1816  33204139   adriaanm  2015-04-13T21:12:55Z\n",
      "2196  22762506      lrytz  2014-10-15T06:05:45Z\n",
      "            pid                                               file\n",
      "82442   1148013  test/files/neg/macro-invalidsig-ctx-badargc/Im...\n",
      "41709   7609740               test/files/run/patmat-behavior.scala\n",
      "15198  56754009                    test/scaladoc/run/SI-6017.scala\n",
      "76147   1594831  src/compiler/scala/tools/nsc/typechecker/Typer...\n",
      "45361   5663070                         test/files/run/t6720.scala\n"
     ]
    }
   ],
   "source": [
    "# Visualizando 5 amostras de cada dataset\n",
    "\n",
    "print(pulls_one.sample(5))\n",
    "print(pulls_two.sample(5))\n",
    "print(pulls_files.sample(5))"
   ]
  },
  {
   "cell_type": "markdown",
   "id": "9681adca-5e26-4fd7-a126-84841c3a152e",
   "metadata": {},
   "source": [
    "## 2. Preparação e limpeza dos dados<br>\n",
    "\n",
    "Primeiro, precisaremos combinar os dados dos dois DataFrames pull separados.<br>\n",
    "\n",
    "Em seguida, os dados brutos extraídos do GitHub contêm datas no formato ISO8601. No entanto, os pandas os importam como strings regulares. Para facilitar nossa análise, precisamos converter as strings em objetos DateTime do Python. Os objetos DateTime têm a propriedade importante de que podem ser comparados e classificados.<br>\n",
    "\n",
    "Os tempos de solicitação de pull estão todos em UTC (também conhecido como Tempo Universal Coordenado). Os tempos de confirmação, no entanto, estão na hora local do autor com informações de fuso horário (número de horas de diferença do UTC). Para facilitar as comparações, devemos converter todos os horários para UTC.<br>"
   ]
  },
  {
   "cell_type": "markdown",
   "id": "2c1e1464-296a-4f6a-9d28-682b4188a98a",
   "metadata": {},
   "source": [
    "# Combinando os datasets"
   ]
  },
  {
   "cell_type": "code",
   "execution_count": 4,
   "id": "4c34d055-5197-4c20-87f2-42c131333f12",
   "metadata": {},
   "outputs": [
    {
     "data": {
      "text/html": [
       "<div>\n",
       "<style scoped>\n",
       "    .dataframe tbody tr th:only-of-type {\n",
       "        vertical-align: middle;\n",
       "    }\n",
       "\n",
       "    .dataframe tbody tr th {\n",
       "        vertical-align: top;\n",
       "    }\n",
       "\n",
       "    .dataframe thead th {\n",
       "        text-align: right;\n",
       "    }\n",
       "</style>\n",
       "<table border=\"1\" class=\"dataframe\">\n",
       "  <thead>\n",
       "    <tr style=\"text-align: right;\">\n",
       "      <th></th>\n",
       "      <th>pid</th>\n",
       "      <th>user</th>\n",
       "      <th>date</th>\n",
       "    </tr>\n",
       "  </thead>\n",
       "  <tbody>\n",
       "    <tr>\n",
       "      <th>0</th>\n",
       "      <td>11166973</td>\n",
       "      <td>VladimirNik</td>\n",
       "      <td>2013-12-31T23:10:55Z</td>\n",
       "    </tr>\n",
       "    <tr>\n",
       "      <th>1</th>\n",
       "      <td>11161892</td>\n",
       "      <td>Ichoran</td>\n",
       "      <td>2013-12-31T16:55:47Z</td>\n",
       "    </tr>\n",
       "    <tr>\n",
       "      <th>2</th>\n",
       "      <td>11153894</td>\n",
       "      <td>Ichoran</td>\n",
       "      <td>2013-12-31T02:41:13Z</td>\n",
       "    </tr>\n",
       "    <tr>\n",
       "      <th>3</th>\n",
       "      <td>11151917</td>\n",
       "      <td>rklaehn</td>\n",
       "      <td>2013-12-30T23:45:47Z</td>\n",
       "    </tr>\n",
       "    <tr>\n",
       "      <th>4</th>\n",
       "      <td>11131244</td>\n",
       "      <td>qerub</td>\n",
       "      <td>2013-12-29T17:21:01Z</td>\n",
       "    </tr>\n",
       "  </tbody>\n",
       "</table>\n",
       "</div>"
      ],
      "text/plain": [
       "        pid         user                  date\n",
       "0  11166973  VladimirNik  2013-12-31T23:10:55Z\n",
       "1  11161892      Ichoran  2013-12-31T16:55:47Z\n",
       "2  11153894      Ichoran  2013-12-31T02:41:13Z\n",
       "3  11151917      rklaehn  2013-12-30T23:45:47Z\n",
       "4  11131244        qerub  2013-12-29T17:21:01Z"
      ]
     },
     "execution_count": 4,
     "metadata": {},
     "output_type": "execute_result"
    }
   ],
   "source": [
    "# Utilizando método concat do pandas para combinar os dois datasets\n",
    "# Os argumentos utilizados garantem que o index será ignorado e uma nova ordem de index será gerada, além da verificação de integridade\n",
    "# que evitará valores do índice duplicados.\n",
    "\n",
    "pull = pulls = pd.concat([pulls_one,pulls_two],ignore_index=True, verify_integrity=True)\n",
    "pull.head(5)"
   ]
  },
  {
   "cell_type": "markdown",
   "id": "b4ae1c96-8e09-4d21-b5c5-440799bb9c99",
   "metadata": {},
   "source": [
    "### Convertendo o tipo de dados"
   ]
  },
  {
   "cell_type": "code",
   "execution_count": 5,
   "id": "3be0c8cb-7ab6-479f-b472-ca1492e3608a",
   "metadata": {},
   "outputs": [
    {
     "data": {
      "text/html": [
       "<div>\n",
       "<style scoped>\n",
       "    .dataframe tbody tr th:only-of-type {\n",
       "        vertical-align: middle;\n",
       "    }\n",
       "\n",
       "    .dataframe tbody tr th {\n",
       "        vertical-align: top;\n",
       "    }\n",
       "\n",
       "    .dataframe thead th {\n",
       "        text-align: right;\n",
       "    }\n",
       "</style>\n",
       "<table border=\"1\" class=\"dataframe\">\n",
       "  <thead>\n",
       "    <tr style=\"text-align: right;\">\n",
       "      <th></th>\n",
       "      <th>pid</th>\n",
       "      <th>user</th>\n",
       "      <th>date</th>\n",
       "    </tr>\n",
       "  </thead>\n",
       "  <tbody>\n",
       "    <tr>\n",
       "      <th>0</th>\n",
       "      <td>11166973</td>\n",
       "      <td>VladimirNik</td>\n",
       "      <td>2013-12-31 23:10:55+00:00</td>\n",
       "    </tr>\n",
       "    <tr>\n",
       "      <th>1</th>\n",
       "      <td>11161892</td>\n",
       "      <td>Ichoran</td>\n",
       "      <td>2013-12-31 16:55:47+00:00</td>\n",
       "    </tr>\n",
       "    <tr>\n",
       "      <th>2</th>\n",
       "      <td>11153894</td>\n",
       "      <td>Ichoran</td>\n",
       "      <td>2013-12-31 02:41:13+00:00</td>\n",
       "    </tr>\n",
       "    <tr>\n",
       "      <th>3</th>\n",
       "      <td>11151917</td>\n",
       "      <td>rklaehn</td>\n",
       "      <td>2013-12-30 23:45:47+00:00</td>\n",
       "    </tr>\n",
       "    <tr>\n",
       "      <th>4</th>\n",
       "      <td>11131244</td>\n",
       "      <td>qerub</td>\n",
       "      <td>2013-12-29 17:21:01+00:00</td>\n",
       "    </tr>\n",
       "  </tbody>\n",
       "</table>\n",
       "</div>"
      ],
      "text/plain": [
       "        pid         user                      date\n",
       "0  11166973  VladimirNik 2013-12-31 23:10:55+00:00\n",
       "1  11161892      Ichoran 2013-12-31 16:55:47+00:00\n",
       "2  11153894      Ichoran 2013-12-31 02:41:13+00:00\n",
       "3  11151917      rklaehn 2013-12-30 23:45:47+00:00\n",
       "4  11131244        qerub 2013-12-29 17:21:01+00:00"
      ]
     },
     "execution_count": 5,
     "metadata": {},
     "output_type": "execute_result"
    }
   ],
   "source": [
    "# Utilizando o método do to_datetime do pandas para converter os dados da coluna Date para o formato datetime\n",
    "# O argumento utilizado utc=True permitirá que os horários sejam convertidos para o mesmo fuso horário, assim facilitará a comparação\n",
    "\n",
    "pulls['date'] = pd.to_datetime(pulls['date'], utc=True)\n",
    "pulls.head(5)"
   ]
  },
  {
   "cell_type": "markdown",
   "id": "ff2fa5c2-0918-4e38-bb42-410562092bb3",
   "metadata": {},
   "source": [
    "## 3. Mesclando os DataFrames\n",
    "\n",
    "Os dados extraídos vêm em dois arquivos separados. A fusão dos dois DataFrames facilitará a análise dos dados nas tarefas futuras."
   ]
  },
  {
   "cell_type": "code",
   "execution_count": 7,
   "id": "0a23a1e1-e248-4342-bab6-c3986740c670",
   "metadata": {},
   "outputs": [
    {
     "data": {
      "text/html": [
       "<div>\n",
       "<style scoped>\n",
       "    .dataframe tbody tr th:only-of-type {\n",
       "        vertical-align: middle;\n",
       "    }\n",
       "\n",
       "    .dataframe tbody tr th {\n",
       "        vertical-align: top;\n",
       "    }\n",
       "\n",
       "    .dataframe thead th {\n",
       "        text-align: right;\n",
       "    }\n",
       "</style>\n",
       "<table border=\"1\" class=\"dataframe\">\n",
       "  <thead>\n",
       "    <tr style=\"text-align: right;\">\n",
       "      <th></th>\n",
       "      <th>pid</th>\n",
       "      <th>user</th>\n",
       "      <th>date</th>\n",
       "      <th>file</th>\n",
       "    </tr>\n",
       "  </thead>\n",
       "  <tbody>\n",
       "    <tr>\n",
       "      <th>0</th>\n",
       "      <td>11166973</td>\n",
       "      <td>VladimirNik</td>\n",
       "      <td>2013-12-31 23:10:55+00:00</td>\n",
       "      <td>src/reflect/scala/reflect/api/Printers.scala</td>\n",
       "    </tr>\n",
       "    <tr>\n",
       "      <th>1</th>\n",
       "      <td>11166973</td>\n",
       "      <td>VladimirNik</td>\n",
       "      <td>2013-12-31 23:10:55+00:00</td>\n",
       "      <td>src/reflect/scala/reflect/internal/Printers.scala</td>\n",
       "    </tr>\n",
       "    <tr>\n",
       "      <th>2</th>\n",
       "      <td>11166973</td>\n",
       "      <td>VladimirNik</td>\n",
       "      <td>2013-12-31 23:10:55+00:00</td>\n",
       "      <td>test/files/run/reify_ann3.check</td>\n",
       "    </tr>\n",
       "    <tr>\n",
       "      <th>3</th>\n",
       "      <td>11166973</td>\n",
       "      <td>VladimirNik</td>\n",
       "      <td>2013-12-31 23:10:55+00:00</td>\n",
       "      <td>test/junit/scala/reflect/internal/PrintersTest...</td>\n",
       "    </tr>\n",
       "    <tr>\n",
       "      <th>4</th>\n",
       "      <td>11161892</td>\n",
       "      <td>Ichoran</td>\n",
       "      <td>2013-12-31 16:55:47+00:00</td>\n",
       "      <td>src/library/scala/collection/mutable/ArrayOps....</td>\n",
       "    </tr>\n",
       "  </tbody>\n",
       "</table>\n",
       "</div>"
      ],
      "text/plain": [
       "        pid         user                      date  \\\n",
       "0  11166973  VladimirNik 2013-12-31 23:10:55+00:00   \n",
       "1  11166973  VladimirNik 2013-12-31 23:10:55+00:00   \n",
       "2  11166973  VladimirNik 2013-12-31 23:10:55+00:00   \n",
       "3  11166973  VladimirNik 2013-12-31 23:10:55+00:00   \n",
       "4  11161892      Ichoran 2013-12-31 16:55:47+00:00   \n",
       "\n",
       "                                                file  \n",
       "0       src/reflect/scala/reflect/api/Printers.scala  \n",
       "1  src/reflect/scala/reflect/internal/Printers.scala  \n",
       "2                    test/files/run/reify_ann3.check  \n",
       "3  test/junit/scala/reflect/internal/PrintersTest...  \n",
       "4  src/library/scala/collection/mutable/ArrayOps....  "
      ]
     },
     "execution_count": 7,
     "metadata": {},
     "output_type": "execute_result"
    }
   ],
   "source": [
    "# Utilizando o método merge() do pandas para mesclar os dois dataframe\n",
    "data = pulls.merge(pulls_files, on=['pid'])\n",
    "data.head(5)"
   ]
  },
  {
   "cell_type": "markdown",
   "id": "38a1976b-57ab-4e81-84c2-3a26e9695be1",
   "metadata": {},
   "source": [
    "## 4. O projeto ainda é mantido ativamente?\n",
    "\n",
    "A atividade em um projeto de código aberto não é muito consistente. Alguns projetos podem ficar ativos por muitos anos após o lançamento inicial, enquanto outros podem cair lentamente no esquecimento. Antes de se comprometer a contribuir para um projeto, é importante entender o estado do projeto. O desenvolvimento está indo de forma constante ou há uma queda? O projeto foi totalmente abandonado?<br>\n",
    "\n",
    "Os dados utilizados neste projeto foram coletados em janeiro de 2018. Estamos interessados ​​na evolução do número de contribuições até essa data.<br>\n",
    "\n",
    "Para Scala, faremos isso traçando um gráfico da atividade do projeto. Calcularemos o número de solicitações pull enviadas a cada mês (calendário) durante a vida útil do projeto. Em seguida, plotaremos esses números para ver a tendência das contribuições.<br>"
   ]
  },
  {
   "cell_type": "code",
   "execution_count": 10,
   "id": "c758ec43-1892-4576-b139-6adc35b2e765",
   "metadata": {},
   "outputs": [
    {
     "name": "stdout",
     "output_type": "stream",
     "text": [
      "year  month\n",
      "2011  12        590\n",
      "2012  1         489\n",
      "      2         787\n",
      "      3         880\n",
      "      4        3354\n",
      "               ... \n",
      "2017  9         578\n",
      "      10        535\n",
      "      11        172\n",
      "      12        224\n",
      "2018  1         202\n",
      "Name: pid, Length: 74, dtype: int64\n"
     ]
    }
   ],
   "source": [
    "# Extraindo o mês da coluna date e criando uma nova coluna chamada month\n",
    "data['month'] = data['date'].dt.month\n",
    "\n",
    "# Fazendo a mesma coisa para o ano\n",
    "data['year'] = data['date'].dt.year\n",
    "\n",
    "# Agrupando os dados por ano e mês e fazendo a contagem dos pull requests\n",
    "# Diferente do proposto pelo guia, optei pelo agrupamento ano-mês para uma melhor visualização\n",
    "counts = data.groupby(['year', 'month'])['pid'].count()\n",
    "\n",
    "print(counts)"
   ]
  },
  {
   "cell_type": "code",
   "execution_count": 11,
   "id": "a1b4cbbc-1ed0-479a-b9a5-321b25aab1cb",
   "metadata": {},
   "outputs": [
    {
     "data": {
      "text/plain": [
       "<AxesSubplot:xlabel='year,month'>"
      ]
     },
     "execution_count": 11,
     "metadata": {},
     "output_type": "execute_result"
    },
    {
     "data": {
      "image/png": "[encoded data removed]",
      "text/plain": [
       "<Figure size 1200x400 with 1 Axes>"
      ]
     },
     "metadata": {},
     "output_type": "display_data"
    }
   ],
   "source": [
    "%matplotlib inline\n",
    "# Plotando resultado\n",
    "\n",
    "counts.plot(kind='bar', figsize = (12,4))\n",
    "# Existem outras formas de fazer o gráfico de barra, que serão explorados de forma mais livre mais para frente, mas para esse exercício foi\n",
    "# seguido conforme proposta do guia."
   ]
  },
  {
   "cell_type": "markdown",
   "id": "150e7e38-3ade-4453-b4cc-7c6e8633a729",
   "metadata": {},
   "source": [
    "É possível observar que o projeto se mantém ativo, mas que ao longo do periodo sofreu uma diminuiu significativa os pull requests recebidos."
   ]
  },
  {
   "cell_type": "markdown",
   "id": "373aeeb3-1e03-4776-84cd-f5a9f69ca588",
   "metadata": {},
   "source": [
    "## 5. Existe camaradagem no projeto?\n",
    "\n",
    "A estrutura organizacional varia de um projeto para outro e pode influenciar seu sucesso como colaborador. Um projeto que tem uma comunidade muito pequena pode não ser o melhor para começar a trabalhar. A pequena comunidade pode indicar uma alta barreira de entrada. Isso pode ser causado por vários fatores, incluindo uma comunidade que está relutante em aceitar pull requests de \"outsiders\", que a base de código é difícil de trabalhar, etc. No entanto, uma grande comunidade pode servir como um indicador de que o projeto estpa regularmente aceitando pull requests de novos contribuidores. Tal projeto seria um bom lugar para começar.<br>\n",
    "\n",
    "Para avaliar a dinâmica da comunidade, traçaremos um histograma do número de pull requests enviados por cada usuário. Uma distribuição que mostra que há poucas pessoas que contribuem apenas com um pequeno número de pull requests pode ser usada como indicador de que o projeto não está recebendo novos contribuidores."
   ]
  },
  {
   "cell_type": "code",
   "execution_count": 12,
   "id": "4402e045-8865-4c92-8001-1be135f6f7b0",
   "metadata": {},
   "outputs": [
    {
     "name": "stdout",
     "output_type": "stream",
     "text": [
      "user\n",
      "0xmohit           2\n",
      "193s              4\n",
      "2m               20\n",
      "4.00E+06         22\n",
      "AlexeyIvanov8     2\n",
      "                 ..\n",
      "yinxusen          1\n",
      "yllan             4\n",
      "ziggystar        22\n",
      "zsxwing           6\n",
      "zuvizudar         1\n",
      "Name: pid, Length: 464, dtype: int64\n"
     ]
    }
   ],
   "source": [
    "# Agrupando a contagem de pull requests por usuário\n",
    "by_user = data.groupby('user')['pid'].count()\n",
    "\n",
    "print(by_user)"
   ]
  },
  {
   "cell_type": "code",
   "execution_count": 13,
   "id": "e4a41663-8a1d-4730-9ec7-f92e6afeb38b",
   "metadata": {},
   "outputs": [
    {
     "data": {
      "text/plain": [
       "<AxesSubplot:ylabel='Frequency'>"
      ]
     },
     "execution_count": 13,
     "metadata": {},
     "output_type": "execute_result"
    },
    {
     "data": {
      "image/png": "[encoded data removed]",
      "text/plain": [
       "<Figure size 1200x400 with 1 Axes>"
      ]
     },
     "metadata": {},
     "output_type": "display_data"
    }
   ],
   "source": [
    "%matplotlib inline\n",
    "\n",
    "# Plotando um histograma\n",
    "by_user.plot(kind='hist', figsize = (12,4))"
   ]
  },
  {
   "cell_type": "markdown",
   "id": "af826b6c-2b98-4f7a-b7f7-a8cb81dff512",
   "metadata": {},
   "source": [
    "## 6. Quais arquivos foram alterados nas últimas dez pull requests?"
   ]
  },
  {
   "cell_type": "markdown",
   "id": "4f363061-2e85-46a8-9e5e-7960460bdbd6",
   "metadata": {},
   "source": [
    "## 7. Quem fez mais pull requests para um determinado arquivo?"
   ]
  },
  {
   "cell_type": "markdown",
   "id": "e56787e8-7ecd-46a1-8863-b1d669cac26f",
   "metadata": {},
   "source": [
    "## 8. Quem fez os últimos dez pull requests em um determinado arquivo?"
   ]
  },
  {
   "cell_type": "markdown",
   "id": "9f42f745-dd00-4242-861c-ae2746a1fc4e",
   "metadata": {},
   "source": [
    "## 9. Os pull requests de dois desenvolvedores especiais"
   ]
  },
  {
   "cell_type": "markdown",
   "id": "ef0de1e2-0eef-41ce-8d40-5fe5da20d9d3",
   "metadata": {},
   "source": [
    "## 10. Visualizando as contribuições de cada desenvolvedor"
   ]
  },
  {
   "cell_type": "markdown",
   "id": "2c860f73-3d22-414b-a3ba-994be42ba427",
   "metadata": {},
   "source": [
    "# Análises Extras"
   ]
  },
  {
   "cell_type": "code",
   "execution_count": null,
   "id": "76ed335d-adc3-4f54-adfb-44896cd04291",
   "metadata": {},
   "outputs": [],
   "source": []
  },
  {
   "cell_type": "code",
   "execution_count": null,
   "id": "5c9b21bb-643b-44ad-86ed-86f3f8f4dc37",
   "metadata": {},
   "outputs": [],
   "source": []
  },
  {
   "cell_type": "code",
   "execution_count": null,
   "id": "16a6e229-3244-428f-b133-c4642204394f",
   "metadata": {},
   "outputs": [],
   "source": []
  },
  {
   "cell_type": "code",
   "execution_count": null,
   "id": "0874e9a6-3bff-40d3-b989-84a108378f3c",
   "metadata": {},
   "outputs": [],
   "source": []
  },
  {
   "cell_type": "markdown",
   "id": "d48d4446-f0df-4ca5-af75-e2c9f6d19d90",
   "metadata": {},
   "source": []
  }
 ],
 "metadata": {
  "kernelspec": {
   "display_name": "Python 3 (ipykernel)",
   "language": "python",
   "name": "python3"
  },
  "language_info": {
   "codemirror_mode": {
    "name": "ipython",
    "version": 3
   },
   "file_extension": ".py",
   "mimetype": "text/x-python",
   "name": "python",
   "nbconvert_exporter": "python",
   "pygments_lexer": "ipython3",
   "version": "3.8.13"
  },
  "toc-autonumbering": false,
  "toc-showcode": true
 },
 "nbformat": 4,
 "nbformat_minor": 5
}
