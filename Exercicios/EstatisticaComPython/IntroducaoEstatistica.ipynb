{
 "cells": [
  {
   "cell_type": "markdown",
   "id": "f4728911-6851-4f20-be3b-adad922d2906",
   "metadata": {},
   "source": [
    "# Introdução a Estatística com Python\n",
    "\n",
    "esse conteúdo é dos exercício da formação em Ciência de Dados da DataCamp"
   ]
  },
  {
   "cell_type": "markdown",
   "id": "871378f9-3568-4087-9aa2-a88157232223",
   "metadata": {
    "jp-MarkdownHeadingCollapsed": true,
    "tags": []
   },
   "source": [
    "## Bibliotecas e Datasets"
   ]
  },
  {
   "cell_type": "code",
   "execution_count": 7,
   "id": "9b62a034-1a57-4585-accc-8e71a0ff8fd1",
   "metadata": {},
   "outputs": [],
   "source": [
    "# Bibliotecas\n",
    "\n",
    "import pandas as pd\n",
    "import numpy as np\n",
    "import statistics as sts"
   ]
  },
  {
   "cell_type": "code",
   "execution_count": 8,
   "id": "23daf321-3232-4f25-8008-f0fd4ff230be",
   "metadata": {},
   "outputs": [
    {
     "data": {
      "text/html": [
       "<div>\n",
       "<style scoped>\n",
       "    .dataframe tbody tr th:only-of-type {\n",
       "        vertical-align: middle;\n",
       "    }\n",
       "\n",
       "    .dataframe tbody tr th {\n",
       "        vertical-align: top;\n",
       "    }\n",
       "\n",
       "    .dataframe thead th {\n",
       "        text-align: right;\n",
       "    }\n",
       "</style>\n",
       "<table border=\"1\" class=\"dataframe\">\n",
       "  <thead>\n",
       "    <tr style=\"text-align: right;\">\n",
       "      <th></th>\n",
       "      <th>Unnamed: 0</th>\n",
       "      <th>product</th>\n",
       "      <th>client</th>\n",
       "      <th>status</th>\n",
       "      <th>amount</th>\n",
       "      <th>num_users</th>\n",
       "    </tr>\n",
       "  </thead>\n",
       "  <tbody>\n",
       "    <tr>\n",
       "      <th>0</th>\n",
       "      <td>1</td>\n",
       "      <td>Product F</td>\n",
       "      <td>Current</td>\n",
       "      <td>Won</td>\n",
       "      <td>7389.52</td>\n",
       "      <td>19</td>\n",
       "    </tr>\n",
       "    <tr>\n",
       "      <th>1</th>\n",
       "      <td>2</td>\n",
       "      <td>Product C</td>\n",
       "      <td>New</td>\n",
       "      <td>Won</td>\n",
       "      <td>4493.01</td>\n",
       "      <td>43</td>\n",
       "    </tr>\n",
       "    <tr>\n",
       "      <th>2</th>\n",
       "      <td>3</td>\n",
       "      <td>Product B</td>\n",
       "      <td>New</td>\n",
       "      <td>Won</td>\n",
       "      <td>5738.09</td>\n",
       "      <td>87</td>\n",
       "    </tr>\n",
       "    <tr>\n",
       "      <th>3</th>\n",
       "      <td>4</td>\n",
       "      <td>Product I</td>\n",
       "      <td>Current</td>\n",
       "      <td>Won</td>\n",
       "      <td>2591.24</td>\n",
       "      <td>83</td>\n",
       "    </tr>\n",
       "    <tr>\n",
       "      <th>4</th>\n",
       "      <td>5</td>\n",
       "      <td>Product E</td>\n",
       "      <td>Current</td>\n",
       "      <td>Won</td>\n",
       "      <td>6622.97</td>\n",
       "      <td>17</td>\n",
       "    </tr>\n",
       "  </tbody>\n",
       "</table>\n",
       "</div>"
      ],
      "text/plain": [
       "   Unnamed: 0    product   client status   amount  num_users\n",
       "0           1  Product F  Current    Won  7389.52         19\n",
       "1           2  Product C      New    Won  4493.01         43\n",
       "2           3  Product B      New    Won  5738.09         87\n",
       "3           4  Product I  Current    Won  2591.24         83\n",
       "4           5  Product E  Current    Won  6622.97         17"
      ]
     },
     "execution_count": 8,
     "metadata": {},
     "output_type": "execute_result"
    }
   ],
   "source": [
    "# Datasets\n",
    "\n",
    "amir = pd.read_csv('amir_deals.csv')\n",
    "food = pd.read_csv('food_consumption.csv')\n",
    "world = pd.read_csv('world_happiness.csv')\n",
    "\n",
    "amir.head()"
   ]
  },
  {
   "cell_type": "markdown",
   "id": "e6453118-e4f1-41f7-bab6-697a96234196",
   "metadata": {},
   "source": [
    "## Números aleatórios e probabilidade\n",
    "\n",
    "Neste capítulo, você aprenderá como gerar amostras aleatórias e medir o acaso usando a probabilidade. Você trabalhará com dados de vendas do mundo real para calcular a probabilidade de um vendedor ser bem-sucedido. Por fim, você usará a distribuição binomial para modelar eventos com resultados binários."
   ]
  },
  {
   "cell_type": "markdown",
   "id": "6eb72128-f1f3-4854-9530-83bc212b0680",
   "metadata": {
    "tags": []
   },
   "source": [
    "### Quais são as chances?\n",
    "\n",
    "Podemos mensurar a chance de um evento acontecer calculando: P(evento) = # vezes que o evento pode acontecer / total # de resultados possíveis. Ex. P(cara) = 1 vez dar cara / 2 possiveis resultados (cara ou coroa).<br>\n",
    "\n",
    "Podemos usar `np.random()` para obter uma amostra aleatória dos nossos dados e para garantir que a amostra seja reproduzível, demos incluir uma semente `np.random.seed(10)`.<br>\n",
    "\n",
    "Para amostra com <b>reposição</b> devemos colocar o argumento verdadeiro em replace `dataset.samples(5, replace=True)`.<br>\n",
    "\n",
    "<b>Eventos Independentes</b> são aqueles que a probabilidade do segundo não é afetada pela probabilidade do primeiro evento. Ex. amostragens com reposição são sempre independentes, pois não altera a chance das outras amostras serem escolhidas.<br>\n",
    "\n",
    "<b>Eventos Dependentes</b> são aqueles que a probabilidade do segundo é afetada pelo resultado do primeiro evento. "
   ]
  },
  {
   "cell_type": "markdown",
   "id": "ec5c0d91-85c3-4e55-ae6d-3ad793d19441",
   "metadata": {
    "jp-MarkdownHeadingCollapsed": true,
    "tags": []
   },
   "source": [
    "#### Calculando a probabilidade\n",
    "Você está no comando da equipe de vendas e é hora das análises de desempenho, começando pelo Amir. Como parte da revisão, você deseja selecionar aleatoriamente alguns dos negócios em que ele trabalhou no ano passado para poder analisá-los mais profundamente. Antes de começar a selecionar negócios, você primeiro descobrirá quais são as chances de selecionar determinados negócios."
   ]
  },
  {
   "cell_type": "code",
   "execution_count": 10,
   "id": "0fca3c9f-6239-40e7-9a25-9c80e08b9a4f",
   "metadata": {},
   "outputs": [
    {
     "data": {
      "text/plain": [
       "Product B    62\n",
       "Product D    40\n",
       "Product A    23\n",
       "Product C    15\n",
       "Product F    11\n",
       "Product H     8\n",
       "Product I     7\n",
       "Product E     5\n",
       "Product N     3\n",
       "Product G     2\n",
       "Product J     2\n",
       "Name: product, dtype: int64"
      ]
     },
     "execution_count": 10,
     "metadata": {},
     "output_type": "execute_result"
    }
   ],
   "source": [
    "# Conte as ofertas para cada produto\n",
    "contagem = amir['product'].value_counts()\n",
    "contagem"
   ]
  },
  {
   "cell_type": "code",
   "execution_count": 11,
   "id": "8d2323b7-32df-4098-9c9c-db7fddecce87",
   "metadata": {},
   "outputs": [
    {
     "data": {
      "text/plain": [
       "Product B    0.348315\n",
       "Product D    0.224719\n",
       "Product A    0.129213\n",
       "Product C    0.084270\n",
       "Product F    0.061798\n",
       "Product H    0.044944\n",
       "Product I    0.039326\n",
       "Product E    0.028090\n",
       "Product N    0.016854\n",
       "Product G    0.011236\n",
       "Product J    0.011236\n",
       "Name: product, dtype: float64"
      ]
     },
     "execution_count": 11,
     "metadata": {},
     "output_type": "execute_result"
    }
   ],
   "source": [
    "# Calcule a probabilidade de escolher um de acordo com cada produto\n",
    "prob = amir['product'].value_counts()/amir['product'].shape[0] # shape[0] trará o valor total de linhas\n",
    "prob"
   ]
  },
  {
   "cell_type": "markdown",
   "id": "5a7c2eb7-c28d-46ed-9920-b601c5d979ed",
   "metadata": {},
   "source": [
    "<B>QUESTÃO:</B> Se você selecionar aleatoriamente um dos negócios de Amir, qual é a probabilidade de que o negócio envolva o Produto C?<BR>\n",
    "    \n",
    "A probabilidade de escolher o Produto C será de <B>`8,43%`"
   ]
  },
  {
   "cell_type": "markdown",
   "id": "a0b30519-4a8e-4174-82a7-ef6757dae5c8",
   "metadata": {
    "jp-MarkdownHeadingCollapsed": true,
    "tags": []
   },
   "source": [
    "#### Ofertas de amostragem\n",
    "\n",
    "No exercício anterior, você contou os negócios em que Amir trabalhou. Agora é hora de escolher aleatoriamente cinco ofertas para que você possa entrar em contato com cada cliente e perguntar se eles ficaram satisfeitos com o serviço recebido. Você tentará fazer isso com e sem substituição.\n",
    "\n",
    "Além disso, você deseja garantir que isso seja feito aleatoriamente e que possa ser reproduzido caso seja perguntado como você escolheu os negócios, então você precisará definir a semente aleatória antes de amostrar os negócios."
   ]
  },
  {
   "cell_type": "code",
   "execution_count": 13,
   "id": "994f8277-4fb5-46b3-9605-f919b8269c36",
   "metadata": {},
   "outputs": [],
   "source": [
    "# Definir semente aleatória\n",
    "np.random.seed(24)"
   ]
  },
  {
   "cell_type": "code",
   "execution_count": 14,
   "id": "1a7ffb26-0477-46b9-a055-ef3461dcea48",
   "metadata": {},
   "outputs": [
    {
     "name": "stdout",
     "output_type": "stream",
     "text": [
      "     Unnamed: 0    product   client status   amount  num_users\n",
      "127         128  Product B  Current    Won  2070.25          7\n",
      "148         149  Product D  Current    Won  3485.48         52\n",
      "77           78  Product B  Current    Won  6252.30         27\n",
      "104         105  Product D  Current    Won  4110.98         39\n",
      "166         167  Product C      New   Lost  3779.86         11\n"
     ]
    }
   ],
   "source": [
    "# Amostra 5 negócios sem substituição\n",
    "amostra_sem_repos = amir.sample(5)\n",
    "print(amostra_sem_repos)"
   ]
  },
  {
   "cell_type": "code",
   "execution_count": 15,
   "id": "9fbdbe07-5604-4aea-a10d-583f13ccd314",
   "metadata": {},
   "outputs": [
    {
     "name": "stdout",
     "output_type": "stream",
     "text": [
      "     Unnamed: 0    product   client status   amount  num_users\n",
      "133         134  Product D  Current    Won  5992.86         98\n",
      "101         102  Product H  Current    Won  5116.34         63\n",
      "110         111  Product B  Current    Won   696.88         44\n",
      "49           50  Product B  Current    Won  3488.36         79\n",
      "56           57  Product D  Current    Won  6820.84         42\n"
     ]
    }
   ],
   "source": [
    "# Amostra 5 negócios com substituição\n",
    "amostra_com_repos = amir.sample(5, replace=True)\n",
    "print(amostra_com_repos)"
   ]
  },
  {
   "cell_type": "markdown",
   "id": "3be0f356-cc6a-4da1-acdc-dbe208ea513d",
   "metadata": {},
   "source": [
    "<B>QUESTÃO:</B> Que tipo de amostragem é melhor usar para esta situação?<BR>\n",
    "    \n",
    "Para a situação acima, o mais interessante é a `amostra SEM reposição`, porque a intenção é falar com 5 clientes distintos"
   ]
  },
  {
   "cell_type": "markdown",
   "id": "a0d890d0-4215-46e8-a905-a72279f3e847",
   "metadata": {},
   "source": [
    "### Distribuição Discreta\n",
    "\n",
    "Descreve a probabilidade de cada saída ocorrer em um cenário. <b>Valor Esperado</b> é a média distribuição de probabilidade"
   ]
  },
  {
   "cell_type": "markdown",
   "id": "49e3b67b-2f94-407a-9864-eabfc4907955",
   "metadata": {},
   "source": [
    "#### Criando uma distribuição de probabilidade\n",
    "\n",
    "Um novo restaurante foi inaugurado há alguns meses, e a administração do restaurante quer otimizar seu espaço com base no tamanho dos grupos que vêm com mais frequência. Em uma noite, há 10 grupos de pessoas esperando para se sentar no restaurante, mas em vez de serem chamados por ordem de chegada, serão chamados aleatoriamente. Neste exercício, você investigará a probabilidade de grupos de tamanhos diferentes serem escolhidos primeiro. Os dados em cada um dos dez grupos estão contidos no DataFrame restaurant_groups."
   ]
  },
  {
   "cell_type": "code",
   "execution_count": null,
   "id": "528fc1b2-0b25-455c-a651-4b6b827207f9",
   "metadata": {},
   "outputs": [],
   "source": [
    "# Crie um histograma de restaurant_groups e mostre o plot\n",
    "restaurant_groups['group_size'].hist(bins=np.linspace(2,6,5))\n",
    "plt.show()"
   ]
  },
  {
   "cell_type": "code",
   "execution_count": null,
   "id": "0b1be5f6-7d23-4949-b200-643aa807381e",
   "metadata": {},
   "outputs": [],
   "source": [
    "# Criar distribuição de probabilidade\n",
    "size_dist = restaurant_groups['group_size'].value_counts() / restaurant_groups.shape[0]\n",
    "\n",
    "# Redefina o índice e renomeie as colunas\n",
    "size_dist = size_dist.reset_index()\n",
    "size_dist.columns = ['group_size', 'prob']\n",
    "\n",
    "# Calcula o valor esperado\n",
    "expected_value = np.sum(size_dist['group_size'] * size_dist['prob'])\n",
    "print(expected_value)"
   ]
  },
  {
   "cell_type": "code",
   "execution_count": null,
   "id": "9a4c75c9-a4c9-4820-bcf8-984fb212ca21",
   "metadata": {},
   "outputs": [],
   "source": [
    "# Grupos de subconjuntos de tamanho 4 ou mais\n",
    "\n",
    "# Soma as probabilidades de groups_4_or_more"
   ]
  },
  {
   "cell_type": "markdown",
   "id": "e5401496-a7ba-46b6-8d12-0ba385d863e6",
   "metadata": {},
   "source": [
    "## More Distributions and the Central Limit Theorem"
   ]
  },
  {
   "cell_type": "markdown",
   "id": "a65e9d2a-bc92-4440-acad-b61ddb9551c9",
   "metadata": {},
   "source": [
    "## Correlation and Experimental Design"
   ]
  },
  {
   "cell_type": "code",
   "execution_count": null,
   "id": "64aec725-e55d-4122-956f-2d373e34ad41",
   "metadata": {},
   "outputs": [],
   "source": []
  }
 ],
 "metadata": {
  "kernelspec": {
   "display_name": "Python 3 (ipykernel)",
   "language": "python",
   "name": "python3"
  },
  "language_info": {
   "codemirror_mode": {
    "name": "ipython",
    "version": 3
   },
   "file_extension": ".py",
   "mimetype": "text/x-python",
   "name": "python",
   "nbconvert_exporter": "python",
   "pygments_lexer": "ipython3",
   "version": "3.8.13"
  }
 },
 "nbformat": 4,
 "nbformat_minor": 5
}
